{
 "cells": [
  {
   "cell_type": "code",
   "execution_count": 2,
   "id": "c0a61bee",
   "metadata": {},
   "outputs": [],
   "source": [
    "#Dependencies and Setup\n",
    "\n",
    "import matplotlib.pyplot as plt\n",
    "import pandas as pd\n",
    "import scipy.stats as st\n",
    "import numpy as np\n",
    "from scipy.stats import linregress\n",
    "from pathlib import Path"
   ]
  },
  {
   "cell_type": "code",
   "execution_count": 33,
   "id": "8aa3527e",
   "metadata": {},
   "outputs": [
    {
     "data": {
      "text/html": [
       "<div>\n",
       "<style scoped>\n",
       "    .dataframe tbody tr th:only-of-type {\n",
       "        vertical-align: middle;\n",
       "    }\n",
       "\n",
       "    .dataframe tbody tr th {\n",
       "        vertical-align: top;\n",
       "    }\n",
       "\n",
       "    .dataframe thead th {\n",
       "        text-align: right;\n",
       "    }\n",
       "</style>\n",
       "<table border=\"1\" class=\"dataframe\">\n",
       "  <thead>\n",
       "    <tr style=\"text-align: right;\">\n",
       "      <th></th>\n",
       "      <th>age</th>\n",
       "      <th>job</th>\n",
       "      <th>marital</th>\n",
       "      <th>education</th>\n",
       "      <th>default</th>\n",
       "      <th>balance</th>\n",
       "      <th>housing</th>\n",
       "      <th>loan</th>\n",
       "      <th>contact</th>\n",
       "      <th>day</th>\n",
       "      <th>month</th>\n",
       "      <th>duration</th>\n",
       "      <th>campaign</th>\n",
       "      <th>pdays</th>\n",
       "      <th>previous</th>\n",
       "      <th>poutcome</th>\n",
       "      <th>y</th>\n",
       "    </tr>\n",
       "  </thead>\n",
       "  <tbody>\n",
       "    <tr>\n",
       "      <th>0</th>\n",
       "      <td>58</td>\n",
       "      <td>management</td>\n",
       "      <td>married</td>\n",
       "      <td>tertiary</td>\n",
       "      <td>no</td>\n",
       "      <td>2143</td>\n",
       "      <td>yes</td>\n",
       "      <td>no</td>\n",
       "      <td>unknown</td>\n",
       "      <td>5</td>\n",
       "      <td>may</td>\n",
       "      <td>261</td>\n",
       "      <td>1</td>\n",
       "      <td>-1</td>\n",
       "      <td>0</td>\n",
       "      <td>unknown</td>\n",
       "      <td>no</td>\n",
       "    </tr>\n",
       "    <tr>\n",
       "      <th>1</th>\n",
       "      <td>44</td>\n",
       "      <td>technician</td>\n",
       "      <td>single</td>\n",
       "      <td>secondary</td>\n",
       "      <td>no</td>\n",
       "      <td>29</td>\n",
       "      <td>yes</td>\n",
       "      <td>no</td>\n",
       "      <td>unknown</td>\n",
       "      <td>5</td>\n",
       "      <td>may</td>\n",
       "      <td>151</td>\n",
       "      <td>1</td>\n",
       "      <td>-1</td>\n",
       "      <td>0</td>\n",
       "      <td>unknown</td>\n",
       "      <td>no</td>\n",
       "    </tr>\n",
       "    <tr>\n",
       "      <th>2</th>\n",
       "      <td>33</td>\n",
       "      <td>entrepreneur</td>\n",
       "      <td>married</td>\n",
       "      <td>secondary</td>\n",
       "      <td>no</td>\n",
       "      <td>2</td>\n",
       "      <td>yes</td>\n",
       "      <td>yes</td>\n",
       "      <td>unknown</td>\n",
       "      <td>5</td>\n",
       "      <td>may</td>\n",
       "      <td>76</td>\n",
       "      <td>1</td>\n",
       "      <td>-1</td>\n",
       "      <td>0</td>\n",
       "      <td>unknown</td>\n",
       "      <td>no</td>\n",
       "    </tr>\n",
       "    <tr>\n",
       "      <th>3</th>\n",
       "      <td>47</td>\n",
       "      <td>blue-collar</td>\n",
       "      <td>married</td>\n",
       "      <td>unknown</td>\n",
       "      <td>no</td>\n",
       "      <td>1506</td>\n",
       "      <td>yes</td>\n",
       "      <td>no</td>\n",
       "      <td>unknown</td>\n",
       "      <td>5</td>\n",
       "      <td>may</td>\n",
       "      <td>92</td>\n",
       "      <td>1</td>\n",
       "      <td>-1</td>\n",
       "      <td>0</td>\n",
       "      <td>unknown</td>\n",
       "      <td>no</td>\n",
       "    </tr>\n",
       "    <tr>\n",
       "      <th>4</th>\n",
       "      <td>33</td>\n",
       "      <td>unknown</td>\n",
       "      <td>single</td>\n",
       "      <td>unknown</td>\n",
       "      <td>no</td>\n",
       "      <td>1</td>\n",
       "      <td>no</td>\n",
       "      <td>no</td>\n",
       "      <td>unknown</td>\n",
       "      <td>5</td>\n",
       "      <td>may</td>\n",
       "      <td>198</td>\n",
       "      <td>1</td>\n",
       "      <td>-1</td>\n",
       "      <td>0</td>\n",
       "      <td>unknown</td>\n",
       "      <td>no</td>\n",
       "    </tr>\n",
       "  </tbody>\n",
       "</table>\n",
       "</div>"
      ],
      "text/plain": [
       "   age           job  marital  education default  balance housing loan  \\\n",
       "0   58    management  married   tertiary      no     2143     yes   no   \n",
       "1   44    technician   single  secondary      no       29     yes   no   \n",
       "2   33  entrepreneur  married  secondary      no        2     yes  yes   \n",
       "3   47   blue-collar  married    unknown      no     1506     yes   no   \n",
       "4   33       unknown   single    unknown      no        1      no   no   \n",
       "\n",
       "   contact  day month  duration  campaign  pdays  previous poutcome   y  \n",
       "0  unknown    5   may       261         1     -1         0  unknown  no  \n",
       "1  unknown    5   may       151         1     -1         0  unknown  no  \n",
       "2  unknown    5   may        76         1     -1         0  unknown  no  \n",
       "3  unknown    5   may        92         1     -1         0  unknown  no  \n",
       "4  unknown    5   may       198         1     -1         0  unknown  no  "
      ]
     },
     "execution_count": 33,
     "metadata": {},
     "output_type": "execute_result"
    }
   ],
   "source": [
    "#CSV File to Load\n",
    "\n",
    "train_data = Path(\"Resources/train.csv\")\n",
    "\n",
    "#Read the CSV File\n",
    "train = pd.read_csv(train_data,delimiter = \";\")\n",
    "\n",
    "#Display the data\n",
    "train.head()"
   ]
  },
  {
   "cell_type": "code",
   "execution_count": 34,
   "id": "82754af0",
   "metadata": {},
   "outputs": [
    {
     "data": {
      "text/html": [
       "<div>\n",
       "<style scoped>\n",
       "    .dataframe tbody tr th:only-of-type {\n",
       "        vertical-align: middle;\n",
       "    }\n",
       "\n",
       "    .dataframe tbody tr th {\n",
       "        vertical-align: top;\n",
       "    }\n",
       "\n",
       "    .dataframe thead th {\n",
       "        text-align: right;\n",
       "    }\n",
       "</style>\n",
       "<table border=\"1\" class=\"dataframe\">\n",
       "  <thead>\n",
       "    <tr style=\"text-align: right;\">\n",
       "      <th></th>\n",
       "      <th>age</th>\n",
       "      <th>job</th>\n",
       "      <th>marital</th>\n",
       "      <th>education</th>\n",
       "      <th>housing</th>\n",
       "      <th>loan</th>\n",
       "      <th>balance</th>\n",
       "      <th>y</th>\n",
       "    </tr>\n",
       "  </thead>\n",
       "  <tbody>\n",
       "    <tr>\n",
       "      <th>0</th>\n",
       "      <td>58</td>\n",
       "      <td>management</td>\n",
       "      <td>married</td>\n",
       "      <td>tertiary</td>\n",
       "      <td>yes</td>\n",
       "      <td>no</td>\n",
       "      <td>2143</td>\n",
       "      <td>no</td>\n",
       "    </tr>\n",
       "    <tr>\n",
       "      <th>1</th>\n",
       "      <td>44</td>\n",
       "      <td>technician</td>\n",
       "      <td>single</td>\n",
       "      <td>secondary</td>\n",
       "      <td>yes</td>\n",
       "      <td>no</td>\n",
       "      <td>29</td>\n",
       "      <td>no</td>\n",
       "    </tr>\n",
       "    <tr>\n",
       "      <th>2</th>\n",
       "      <td>33</td>\n",
       "      <td>entrepreneur</td>\n",
       "      <td>married</td>\n",
       "      <td>secondary</td>\n",
       "      <td>yes</td>\n",
       "      <td>yes</td>\n",
       "      <td>2</td>\n",
       "      <td>no</td>\n",
       "    </tr>\n",
       "    <tr>\n",
       "      <th>3</th>\n",
       "      <td>47</td>\n",
       "      <td>blue-collar</td>\n",
       "      <td>married</td>\n",
       "      <td>unknown</td>\n",
       "      <td>yes</td>\n",
       "      <td>no</td>\n",
       "      <td>1506</td>\n",
       "      <td>no</td>\n",
       "    </tr>\n",
       "    <tr>\n",
       "      <th>4</th>\n",
       "      <td>33</td>\n",
       "      <td>unknown</td>\n",
       "      <td>single</td>\n",
       "      <td>unknown</td>\n",
       "      <td>no</td>\n",
       "      <td>no</td>\n",
       "      <td>1</td>\n",
       "      <td>no</td>\n",
       "    </tr>\n",
       "  </tbody>\n",
       "</table>\n",
       "</div>"
      ],
      "text/plain": [
       "   age           job  marital  education housing loan  balance   y\n",
       "0   58    management  married   tertiary     yes   no     2143  no\n",
       "1   44    technician   single  secondary     yes   no       29  no\n",
       "2   33  entrepreneur  married  secondary     yes  yes        2  no\n",
       "3   47   blue-collar  married    unknown     yes   no     1506  no\n",
       "4   33       unknown   single    unknown      no   no        1  no"
      ]
     },
     "execution_count": 34,
     "metadata": {},
     "output_type": "execute_result"
    }
   ],
   "source": [
    "#Clean the Data by Making a New Dataframe with columns Age, Job, Marital, Education , Housing, Loan, Balance & last columns (Y)\n",
    "train_df = train.loc[:,[\"age\",\"job\",\"marital\",\"education\",\"housing\",\"loan\",\"balance\",\"y\"]]\n",
    "train_df.head()\n",
    "\n",
    "#Drop the column name Default, Contact, Campaign,pdays, Previous,poutcome"
   ]
  },
  {
   "cell_type": "code",
   "execution_count": 35,
   "id": "03114603",
   "metadata": {},
   "outputs": [
    {
     "data": {
      "text/html": [
       "<div>\n",
       "<style scoped>\n",
       "    .dataframe tbody tr th:only-of-type {\n",
       "        vertical-align: middle;\n",
       "    }\n",
       "\n",
       "    .dataframe tbody tr th {\n",
       "        vertical-align: top;\n",
       "    }\n",
       "\n",
       "    .dataframe thead th {\n",
       "        text-align: right;\n",
       "    }\n",
       "</style>\n",
       "<table border=\"1\" class=\"dataframe\">\n",
       "  <thead>\n",
       "    <tr style=\"text-align: right;\">\n",
       "      <th></th>\n",
       "      <th>Age</th>\n",
       "      <th>Job</th>\n",
       "      <th>Marital_Status</th>\n",
       "      <th>Education</th>\n",
       "      <th>Housing</th>\n",
       "      <th>Loan</th>\n",
       "      <th>Balance</th>\n",
       "      <th>Outcome</th>\n",
       "    </tr>\n",
       "  </thead>\n",
       "  <tbody>\n",
       "    <tr>\n",
       "      <th>0</th>\n",
       "      <td>58</td>\n",
       "      <td>management</td>\n",
       "      <td>married</td>\n",
       "      <td>tertiary</td>\n",
       "      <td>yes</td>\n",
       "      <td>no</td>\n",
       "      <td>2143</td>\n",
       "      <td>no</td>\n",
       "    </tr>\n",
       "    <tr>\n",
       "      <th>1</th>\n",
       "      <td>44</td>\n",
       "      <td>technician</td>\n",
       "      <td>single</td>\n",
       "      <td>secondary</td>\n",
       "      <td>yes</td>\n",
       "      <td>no</td>\n",
       "      <td>29</td>\n",
       "      <td>no</td>\n",
       "    </tr>\n",
       "    <tr>\n",
       "      <th>2</th>\n",
       "      <td>33</td>\n",
       "      <td>entrepreneur</td>\n",
       "      <td>married</td>\n",
       "      <td>secondary</td>\n",
       "      <td>yes</td>\n",
       "      <td>yes</td>\n",
       "      <td>2</td>\n",
       "      <td>no</td>\n",
       "    </tr>\n",
       "    <tr>\n",
       "      <th>3</th>\n",
       "      <td>47</td>\n",
       "      <td>blue-collar</td>\n",
       "      <td>married</td>\n",
       "      <td>unknown</td>\n",
       "      <td>yes</td>\n",
       "      <td>no</td>\n",
       "      <td>1506</td>\n",
       "      <td>no</td>\n",
       "    </tr>\n",
       "    <tr>\n",
       "      <th>4</th>\n",
       "      <td>33</td>\n",
       "      <td>unknown</td>\n",
       "      <td>single</td>\n",
       "      <td>unknown</td>\n",
       "      <td>no</td>\n",
       "      <td>no</td>\n",
       "      <td>1</td>\n",
       "      <td>no</td>\n",
       "    </tr>\n",
       "  </tbody>\n",
       "</table>\n",
       "</div>"
      ],
      "text/plain": [
       "   Age           Job Marital_Status  Education Housing Loan  Balance Outcome\n",
       "0   58    management        married   tertiary     yes   no     2143      no\n",
       "1   44    technician         single  secondary     yes   no       29      no\n",
       "2   33  entrepreneur        married  secondary     yes  yes        2      no\n",
       "3   47   blue-collar        married    unknown     yes   no     1506      no\n",
       "4   33       unknown         single    unknown      no   no        1      no"
      ]
     },
     "execution_count": 35,
     "metadata": {},
     "output_type": "execute_result"
    }
   ],
   "source": [
    "#Rename the columns name \n",
    "\n",
    "train_data_df = train_df.rename(columns={\"age\":\"Age\",\"job\":\"Job\",\"marital\":\"Marital_Status\",\"education\":\"Education\",\n",
    "                                         \"housing\":\"Housing\",\"loan\":\"Loan\",\"balance\":\"Balance\",\"y\":\"Outcome\"})\n",
    "\n",
    "train_data_df.head()"
   ]
  },
  {
   "cell_type": "code",
   "execution_count": 6,
   "id": "43d39d50",
   "metadata": {},
   "outputs": [
    {
     "data": {
      "text/plain": [
       "Age               45211\n",
       "Job               45211\n",
       "Marital_Status    45211\n",
       "Education         45211\n",
       "Housing           45211\n",
       "Loan              45211\n",
       "Balance           45211\n",
       "Outcome           45211\n",
       "dtype: int64"
      ]
     },
     "execution_count": 6,
     "metadata": {},
     "output_type": "execute_result"
    }
   ],
   "source": [
    "train_data_df.count()"
   ]
  },
  {
   "attachments": {},
   "cell_type": "markdown",
   "id": "1598ce94",
   "metadata": {},
   "source": [
    "# Housing analysis\n",
    "This analyzes the data from the customers having a housing loan"
   ]
  },
  {
   "cell_type": "code",
   "execution_count": 16,
   "id": "b0d2574d",
   "metadata": {},
   "outputs": [
    {
     "data": {
      "text/plain": [
       "<Axes: ylabel='Housing'>"
      ]
     },
     "execution_count": 16,
     "metadata": {},
     "output_type": "execute_result"
    },
    {
     "data": {
      "image/png": "[encoded data removed]",
      "text/plain": [
       "<Figure size 300x300 with 1 Axes>"
      ]
     },
     "metadata": {},
     "output_type": "display_data"
    }
   ],
   "source": [
    "# This filters the records having bought a term deposit (outcome equal to yes) \n",
    "# and graphs the mode of the number of customers having a house loan or not\n",
    "\n",
    "#Filtering the data\n",
    "train_data_df_filtered = train_data_df[train_data_df['Outcome'] =='yes'] \n",
    "#Grouping and graphing\n",
    "pie_mode_housing = train_data_df_filtered.groupby(['Housing'])['Housing'].count()\n",
    "pie_mode_housing.plot.pie(autopct='%1.1f%%', figsize=(3, 3))\n"
   ]
  },
  {
   "cell_type": "code",
   "execution_count": null,
   "id": "6ceca510",
   "metadata": {},
   "outputs": [
    {
     "data": {
      "text/plain": [
       "<Axes: ylabel='Outcome'>"
      ]
     },
     "metadata": {},
     "output_type": "display_data"
    },
    {
     "data": {
      "image/png": "[encoded data removed]",
      "text/plain": [
       "<Figure size 300x300 with 1 Axes>"
      ]
     },
     "metadata": {},
     "output_type": "display_data"
    }
   ],
   "source": [
    "# This filters the records having a housing loan \n",
    "# and graphs the mode of the number of customers having bought the product\n",
    "\n",
    "#Filtering the data\n",
    "train_data_df_filtered = train_data_df[train_data_df['Housing'] =='yes'] \n",
    "#Grouping and graphing\n",
    "pie_mode_housing = train_data_df_filtered.groupby(['Outcome'])['Outcome'].count()\n",
    "pie_mode_housing.plot.pie(autopct='%1.1f%%', figsize=(3, 3))\n"
   ]
  },
  {
   "cell_type": "code",
   "execution_count": 44,
   "id": "26f48c1d",
   "metadata": {},
   "outputs": [
    {
     "name": "stdout",
     "output_type": "stream",
     "text": [
      "The correlation between customers purchasing a term deposit and if they have a house loan is PearsonRResult(statistic=-0.1391727024981668, pvalue=2.621926571898328e-194)\n",
      "The model details are LinregressResult(slope=-0.09002395253461438, intercept=0.16702355460385437, rvalue=-0.1391727024981697, pvalue=2.6219265718514796e-194, stderr=0.003012620076009906, intercept_stderr=0.0022460455194902545)\n"
     ]
    },
    {
     "data": {
      "image/png": "[encoded data removed]",
      "text/plain": [
       "<Figure size 640x480 with 1 Axes>"
      ]
     },
     "metadata": {},
     "output_type": "display_data"
    }
   ],
   "source": [
    "# This calculates the correlation between customers having a house loan and purchased the product\n",
    "\n",
    "# Updates the values of the dataset from \"yes\" to 1 and from \"no\" to 0\n",
    "train_data_df_updated = train_data_df.replace('yes',1)\n",
    "train_data_df_updated2 = train_data_df_updated.replace('no',0)\n",
    "train_data_df_updated2\n",
    "# Calculates pearsonr and model data\n",
    "corr=st.pearsonr(train_data_df_updated2['Housing'],train_data_df_updated2['Outcome'])\n",
    "print(f\"The correlation between customers purchasing a term deposit and if they have a house loan is {corr}\")\n",
    "model=st.linregress(train_data_df_updated2['Housing'],train_data_df_updated2['Outcome'])\n",
    "print(f\"The model details are {model}\")\n",
    "# Taking the values from above output\n",
    "slope = -0.090\n",
    "intercept = 0.167\n",
    "line = slope*(train_data_df_updated2['Housing'])+intercept\n",
    "# Creates the graph\n",
    "plt.scatter(train_data_df_updated2['Housing'],train_data_df_updated2['Outcome'])\n",
    "plt.plot(train_data_df_updated2['Housing'], line, 'r', label='y={:.2f}x+{:.2f}'.format(slope,intercept))\n",
    "plt.xlabel('Housing')\n",
    "plt.ylabel('Outcome')\n",
    "plt.legend()\n",
    "plt.show()"
   ]
  },
  {
   "attachments": {},
   "cell_type": "markdown",
   "id": "f7f35349",
   "metadata": {},
   "source": [
    "## Conclusion housing analysis\n",
    "The initial graph shows no evident relationship between having a housing loan and whether or not influences the decision of purchasing the product.\n",
    "The second graph shows evidence that majority of the persons who bought the product did not have a housing loan.\n",
    "However, after calculating their correlationship, there is no clear relationships between having or not a housing loan and purchasing a term deposit. "
   ]
  },
  {
   "attachments": {},
   "cell_type": "markdown",
   "id": "91e05d74",
   "metadata": {},
   "source": [
    "# Loan analysis\n",
    "This analyzes the data from the customers having a personal loan"
   ]
  },
  {
   "cell_type": "code",
   "execution_count": 17,
   "id": "6af0000b",
   "metadata": {},
   "outputs": [
    {
     "data": {
      "text/plain": [
       "<Axes: ylabel='Loan'>"
      ]
     },
     "execution_count": 17,
     "metadata": {},
     "output_type": "execute_result"
    },
    {
     "data": {
      "image/png": "[encoded data removed]",
      "text/plain": [
       "<Figure size 300x300 with 1 Axes>"
      ]
     },
     "metadata": {},
     "output_type": "display_data"
    }
   ],
   "source": [
    "# This filters the records having bought a term deposit (outcome equal to yes) \n",
    "# and graphs the mode of the number of customers having a personal loan or not\n",
    "\n",
    "train_data_df_filtered = train_data_df[train_data_df['Outcome'] =='yes'] \n",
    "pie_mode_loan = train_data_df_filtered.groupby(['Loan'])['Loan'].count()\n",
    "pie_mode_loan.plot.pie(autopct='%1.1f%%', figsize=(3, 3))\n"
   ]
  },
  {
   "cell_type": "code",
   "execution_count": 58,
   "id": "a7fadd74",
   "metadata": {},
   "outputs": [
    {
     "data": {
      "text/plain": [
       "<Axes: ylabel='Outcome'>"
      ]
     },
     "execution_count": 58,
     "metadata": {},
     "output_type": "execute_result"
    },
    {
     "data": {
      "image/png": "[encoded data removed]",
      "text/plain": [
       "<Figure size 300x300 with 1 Axes>"
      ]
     },
     "metadata": {},
     "output_type": "display_data"
    }
   ],
   "source": [
    "# This filters the records having a personal loan \n",
    "# and graphs the mode of the number of customers having bought the product\n",
    "\n",
    "#Filtering the data\n",
    "train_data_df_filtered = train_data_df[train_data_df['Loan'] =='yes'] \n",
    "#Grouping and graphing\n",
    "pie_mode_loan = train_data_df_filtered.groupby(['Outcome'])['Outcome'].count()\n",
    "pie_mode_loan.plot.pie(autopct='%1.1f%%', figsize=(3, 3))\n"
   ]
  },
  {
   "cell_type": "code",
   "execution_count": 47,
   "id": "4970d42f",
   "metadata": {},
   "outputs": [
    {
     "name": "stdout",
     "output_type": "stream",
     "text": [
      "The correlation between customers purchasing a term deposit and if they have a personal loan is PearsonRResult(statistic=-0.06818503472419417, pvalue=9.793657535921787e-48)\n",
      "The model details are LinregressResult(slope=-0.0597433584575474, intercept=0.12655727342165565, rvalue=-0.06818503472421278, pvalue=9.793657535353354e-48, stderr=0.004111271914770682, intercept_stderr=0.0016456723250011362)\n"
     ]
    },
    {
     "data": {
      "image/png": "[encoded data removed]",
      "text/plain": [
       "<Figure size 640x480 with 1 Axes>"
      ]
     },
     "metadata": {},
     "output_type": "display_data"
    }
   ],
   "source": [
    "# This calculates the correlation between customers having a house loan and purchased the product\n",
    "\n",
    "# Updates the values of the dataset from \"yes\" to 1 and from \"no\" to 0\n",
    "train_data_df_updated = train_data_df.replace('yes',1)\n",
    "train_data_df_updated2 = train_data_df_updated.replace('no',0)\n",
    "train_data_df_updated2\n",
    "# Calculates pearsonr and model data\n",
    "corr=st.pearsonr(train_data_df_updated2['Loan'],train_data_df_updated2['Outcome'])\n",
    "print(f\"The correlation between customers purchasing a term deposit and if they have a personal loan is {corr}\")\n",
    "model=st.linregress(train_data_df_updated2['Loan'],train_data_df_updated2['Outcome'])\n",
    "print(f\"The model details are {model}\")\n",
    "# Taking the values from above output\n",
    "slope = -0.0597\n",
    "intercept = 0.126\n",
    "line = slope*(train_data_df_updated2['Loan'])+intercept\n",
    "# Creates the graph\n",
    "plt.scatter(train_data_df_updated2['Loan'],train_data_df_updated2['Outcome'])\n",
    "plt.plot(train_data_df_updated2['Loan'], line, 'r', label='y={:.2f}x+{:.2f}'.format(slope,intercept))\n",
    "plt.xlabel('Loan')\n",
    "plt.ylabel('Outcome')\n",
    "plt.legend()\n",
    "plt.show()"
   ]
  },
  {
   "attachments": {},
   "cell_type": "markdown",
   "id": "805b66ee",
   "metadata": {},
   "source": [
    "## Conclusion loan analysis\n",
    "The initial graph shows evident relationship between having a personal loan and whether or not influences the decision of purchasing the product. \n",
    "As shown in the second graph as well, majority of the persons who bought the product did not have a personal loan.\n",
    "After calculating their correlationship, there is no clear relationships between having or not a personal loan and purchasing a term deposit. "
   ]
  }
 ],
 "metadata": {
  "kernelspec": {
   "display_name": "Python 3 (ipykernel)",
   "language": "python",
   "name": "python3"
  },
  "language_info": {
   "codemirror_mode": {
    "name": "ipython",
    "version": 3
   },
   "file_extension": ".py",
   "mimetype": "text/x-python",
   "name": "python",
   "nbconvert_exporter": "python",
   "pygments_lexer": "ipython3",
   "version": "3.10.11"
  }
 },
 "nbformat": 4,
 "nbformat_minor": 5
}
